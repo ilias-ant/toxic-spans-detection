{
 "cells": [
  {
   "cell_type": "code",
   "execution_count": 1,
   "id": "cb8d18de",
   "metadata": {},
   "outputs": [],
   "source": [
    "from ast import literal_eval\n",
    "from itertools import groupby\n",
    "from operator import itemgetter\n",
    "\n",
    "import pandas as pd\n",
    "from plotnine import *\n",
    "\n",
    "\n",
    "pd.set_option(\"display.max_colwidth\", None)"
   ]
  },
  {
   "cell_type": "code",
   "execution_count": 2,
   "id": "30c444a8",
   "metadata": {},
   "outputs": [],
   "source": [
    "def inspect_df(df: pd.DataFrame, n: int = 5) -> pd.DataFrame:\n",
    "    \"\"\"Helper method to easily inspect DataFrames.\"\"\"\n",
    "\n",
    "    print(f\"shape: {df.shape}\")\n",
    "\n",
    "    return df.head(n)"
   ]
  },
  {
   "cell_type": "markdown",
   "id": "9894cfb2",
   "metadata": {},
   "source": [
    "## Exploratory Data Analysis"
   ]
  },
  {
   "cell_type": "code",
   "execution_count": 3,
   "id": "0f485287",
   "metadata": {},
   "outputs": [
    {
     "name": "stdout",
     "output_type": "stream",
     "text": [
      "shape: (7939, 2)\n"
     ]
    },
    {
     "data": {
      "text/html": [
       "<div>\n",
       "<style scoped>\n",
       "    .dataframe tbody tr th:only-of-type {\n",
       "        vertical-align: middle;\n",
       "    }\n",
       "\n",
       "    .dataframe tbody tr th {\n",
       "        vertical-align: top;\n",
       "    }\n",
       "\n",
       "    .dataframe thead th {\n",
       "        text-align: right;\n",
       "    }\n",
       "</style>\n",
       "<table border=\"1\" class=\"dataframe\">\n",
       "  <thead>\n",
       "    <tr style=\"text-align: right;\">\n",
       "      <th></th>\n",
       "      <th>spans</th>\n",
       "      <th>text</th>\n",
       "    </tr>\n",
       "  </thead>\n",
       "  <tbody>\n",
       "    <tr>\n",
       "      <th>0</th>\n",
       "      <td>[8, 9, 10, 11, 12, 13, 14, 15, 16, 17, 18, 19, 20, 21, 22, 23, 24, 25, 26, 27, 28, 29, 30, 31, 32, 33, 34, 35, 36, 37, 38, 39]</td>\n",
       "      <td>Another violent and aggressive immigrant killing a innocent and intelligent US Citizen.... Sarcasm</td>\n",
       "    </tr>\n",
       "    <tr>\n",
       "      <th>1</th>\n",
       "      <td>[33, 34, 35, 36, 37, 38, 39]</td>\n",
       "      <td>I am 56 years old, I am not your fucking junior pal. What you are saying makes no sense. I don't know what you are basing this on. The cheap black market crap is still coming up from Mexican nationals, and the good stuff from BC and Humbolt.  The I5 corridor is still just as busy, and they are still making a ton of money. Nothing has really changed except that the legal market has made it easy for anyone of legal age to buy it.  And the legal market is controlled by corporate growers with million dollar facilities, or a co-op of smaller growers. The Federal government \"war on drugs\" really has no impact on the legal market in Oregon. I don't see any glutton of weed, whatever that means.</td>\n",
       "    </tr>\n",
       "    <tr>\n",
       "      <th>2</th>\n",
       "      <td>[0, 1, 2, 3]</td>\n",
       "      <td>Damn, a whole family. Sad indeed.</td>\n",
       "    </tr>\n",
       "    <tr>\n",
       "      <th>3</th>\n",
       "      <td>[7, 8, 9, 10, 11, 12, 13, 14, 15, 16, 17]</td>\n",
       "      <td>What a knucklehead. How can anyone not know this would be offensive??</td>\n",
       "    </tr>\n",
       "    <tr>\n",
       "      <th>4</th>\n",
       "      <td>[32, 33, 34, 35, 36, 37, 38]</td>\n",
       "      <td>\"who do you think should do the killing?\"\\r\\n\\r\\nAnyone and everyone. This is a community problem, so everyone who wants to be part of the solution should be allowed to help. As I said above: remove all protections on free ranging cats, and allow people to help. People who allow their pets to roam outside are part of the problem, because their pets are part of the problem. It would be very sad if pets were killed, but ultimately it is the owner's responsibility to make sure their pets are not out killing birds.\\r\\n\\r\\nYears ago some Vermont acquaintances got one warning from the Ranger: Next time I see your dog running deer, I'll shoot it. Next time she saw it running deer, she did. \\r\\n\\r\\nVermont does not pretend that trapping, neutering, and releasing dogs solves any problems. They are serious about threats. We just want to feel good about ourselves. If we were serious about feral cats, we would kill them. Neutered cats eat birds. Don't release them. Kill them.</td>\n",
       "    </tr>\n",
       "  </tbody>\n",
       "</table>\n",
       "</div>"
      ],
      "text/plain": [
       "                                                                                                                            spans  \\\n",
       "0  [8, 9, 10, 11, 12, 13, 14, 15, 16, 17, 18, 19, 20, 21, 22, 23, 24, 25, 26, 27, 28, 29, 30, 31, 32, 33, 34, 35, 36, 37, 38, 39]   \n",
       "1                                                                                                    [33, 34, 35, 36, 37, 38, 39]   \n",
       "2                                                                                                                    [0, 1, 2, 3]   \n",
       "3                                                                                       [7, 8, 9, 10, 11, 12, 13, 14, 15, 16, 17]   \n",
       "4                                                                                                    [32, 33, 34, 35, 36, 37, 38]   \n",
       "\n",
       "                                                                                                                                                                                                                                                                                                                                                                                                                                                                                                                                                                                                                                                                                                                                                                                                                                                                                                                                                                                                                 text  \n",
       "0                                                                                                                                                                                                                                                                                                                                                                                                                                                                                                                                                                                                                                                                                                                                                                                                                                                                                                                  Another violent and aggressive immigrant killing a innocent and intelligent US Citizen.... Sarcasm  \n",
       "1                                                                                                                                                                                                                                                                                             I am 56 years old, I am not your fucking junior pal. What you are saying makes no sense. I don't know what you are basing this on. The cheap black market crap is still coming up from Mexican nationals, and the good stuff from BC and Humbolt.  The I5 corridor is still just as busy, and they are still making a ton of money. Nothing has really changed except that the legal market has made it easy for anyone of legal age to buy it.  And the legal market is controlled by corporate growers with million dollar facilities, or a co-op of smaller growers. The Federal government \"war on drugs\" really has no impact on the legal market in Oregon. I don't see any glutton of weed, whatever that means.  \n",
       "2                                                                                                                                                                                                                                                                                                                                                                                                                                                                                                                                                                                                                                                                                                                                                                                                                                                                                                                                                                                   Damn, a whole family. Sad indeed.  \n",
       "3                                                                                                                                                                                                                                                                                                                                                                                                                                                                                                                                                                                                                                                                                                                                                                                                                                                                                                                                               What a knucklehead. How can anyone not know this would be offensive??  \n",
       "4  \"who do you think should do the killing?\"\\r\\n\\r\\nAnyone and everyone. This is a community problem, so everyone who wants to be part of the solution should be allowed to help. As I said above: remove all protections on free ranging cats, and allow people to help. People who allow their pets to roam outside are part of the problem, because their pets are part of the problem. It would be very sad if pets were killed, but ultimately it is the owner's responsibility to make sure their pets are not out killing birds.\\r\\n\\r\\nYears ago some Vermont acquaintances got one warning from the Ranger: Next time I see your dog running deer, I'll shoot it. Next time she saw it running deer, she did. \\r\\n\\r\\nVermont does not pretend that trapping, neutering, and releasing dogs solves any problems. They are serious about threats. We just want to feel good about ourselves. If we were serious about feral cats, we would kill them. Neutered cats eat birds. Don't release them. Kill them.  "
      ]
     },
     "execution_count": 3,
     "metadata": {},
     "output_type": "execute_result"
    }
   ],
   "source": [
    "trainset = pd.read_csv(\"../data/tsd_train.csv\")\n",
    "\n",
    "inspect_df(trainset)"
   ]
  },
  {
   "cell_type": "code",
   "execution_count": 4,
   "id": "383eb66d",
   "metadata": {},
   "outputs": [],
   "source": [
    "# we will deserialize `spans` from str instances to proper objects (lists)\n",
    "try:\n",
    "    trainset[\"spans\"] = trainset[\"spans\"].apply(literal_eval)\n",
    "\n",
    "except ValueError:  # in case cell is executed more than once\n",
    "    pass"
   ]
  },
  {
   "cell_type": "code",
   "execution_count": 5,
   "id": "fc5d558d",
   "metadata": {},
   "outputs": [],
   "source": [
    "# how many data points contain toxic spans?\n",
    "toxic = trainset[\"spans\"].apply(len) > 0"
   ]
  },
  {
   "cell_type": "code",
   "execution_count": 6,
   "id": "c72365b9",
   "metadata": {},
   "outputs": [
    {
     "data": {
      "image/png": "[encoded data removed]",
      "text/plain": [
       "<Figure size 640x480 with 1 Axes>"
      ]
     },
     "metadata": {},
     "output_type": "display_data"
    },
    {
     "data": {
      "text/plain": [
       "<ggplot: (135706257634)>"
      ]
     },
     "execution_count": 6,
     "metadata": {},
     "output_type": "execute_result"
    }
   ],
   "source": [
    "(\n",
    "    ggplot()\n",
    "    + geom_bar(mapping=aes(x=toxic), colour=\"white\")\n",
    "    + labs(title=\"text contains toxic spans ?\", x=\"\")\n",
    "    + coord_flip()\n",
    ")"
   ]
  },
  {
   "cell_type": "code",
   "execution_count": 7,
   "id": "7e5a0679",
   "metadata": {},
   "outputs": [
    {
     "name": "stdout",
     "output_type": "stream",
     "text": [
      "shape: (485, 2)\n"
     ]
    },
    {
     "data": {
      "text/html": [
       "<div>\n",
       "<style scoped>\n",
       "    .dataframe tbody tr th:only-of-type {\n",
       "        vertical-align: middle;\n",
       "    }\n",
       "\n",
       "    .dataframe tbody tr th {\n",
       "        vertical-align: top;\n",
       "    }\n",
       "\n",
       "    .dataframe thead th {\n",
       "        text-align: right;\n",
       "    }\n",
       "</style>\n",
       "<table border=\"1\" class=\"dataframe\">\n",
       "  <thead>\n",
       "    <tr style=\"text-align: right;\">\n",
       "      <th></th>\n",
       "      <th>spans</th>\n",
       "      <th>text</th>\n",
       "    </tr>\n",
       "  </thead>\n",
       "  <tbody>\n",
       "    <tr>\n",
       "      <th>5</th>\n",
       "      <td>[]</td>\n",
       "      <td>But, but, but, is NOT a defense.  It's not even a good deflection.  In America today we have Nazis waving the Nazi flag at rallies in our cities. In what capacity does anyone think this is ok and who would not see that as a problem?\\r\\n\\r\\nEnough with the \"Well what about blah blah\" garbage.</td>\n",
       "    </tr>\n",
       "    <tr>\n",
       "      <th>21</th>\n",
       "      <td>[]</td>\n",
       "      <td>Jim\\r\\n\\r\\nI think Donald is a con man and a dangerous, narcissistic buffoon. But I don't hate Donald.  He's not worth the emotional effort needed to hate. To say I hate him is to admit that I even care about him, which I don't. What I do care about is the damage he's already caused to this country, and the continuing damage he'll cause to this country and the world until he leaves office.</td>\n",
       "    </tr>\n",
       "    <tr>\n",
       "      <th>24</th>\n",
       "      <td>[]</td>\n",
       "      <td>Exposing hypocrites like Trump and Pence is therapeutic for you? Good job!</td>\n",
       "    </tr>\n",
       "    <tr>\n",
       "      <th>27</th>\n",
       "      <td>[]</td>\n",
       "      <td>The malignant narcissist, mentally deranged sociopath, bigot, rascist, disingenuous blowhard and pathological liar, has now certified himself as a fascist. How much longer before his GOP sycophants and suckees say, \"Enough!\", and demand this repugnant, excrement-spewing fool's ouster?</td>\n",
       "    </tr>\n",
       "    <tr>\n",
       "      <th>60</th>\n",
       "      <td>[]</td>\n",
       "      <td>the is NO CONSENSUS you ignorant loser, NONE, nothing but debate, thousands of scientist do not agree period, we dont need to move from anything other than left wing stupidity like yours.</td>\n",
       "    </tr>\n",
       "  </tbody>\n",
       "</table>\n",
       "</div>"
      ],
      "text/plain": [
       "   spans  \\\n",
       "5     []   \n",
       "21    []   \n",
       "24    []   \n",
       "27    []   \n",
       "60    []   \n",
       "\n",
       "                                                                                                                                                                                                                                                                                                                                                                                                        text  \n",
       "5                                                                                                       But, but, but, is NOT a defense.  It's not even a good deflection.  In America today we have Nazis waving the Nazi flag at rallies in our cities. In what capacity does anyone think this is ok and who would not see that as a problem?\\r\\n\\r\\nEnough with the \"Well what about blah blah\" garbage.  \n",
       "21  Jim\\r\\n\\r\\nI think Donald is a con man and a dangerous, narcissistic buffoon. But I don't hate Donald.  He's not worth the emotional effort needed to hate. To say I hate him is to admit that I even care about him, which I don't. What I do care about is the damage he's already caused to this country, and the continuing damage he'll cause to this country and the world until he leaves office.  \n",
       "24                                                                                                                                                                                                                                                                                                                                Exposing hypocrites like Trump and Pence is therapeutic for you? Good job!  \n",
       "27                                                                                                             The malignant narcissist, mentally deranged sociopath, bigot, rascist, disingenuous blowhard and pathological liar, has now certified himself as a fascist. How much longer before his GOP sycophants and suckees say, \"Enough!\", and demand this repugnant, excrement-spewing fool's ouster?  \n",
       "60                                                                                                                                                                                                               the is NO CONSENSUS you ignorant loser, NONE, nothing but debate, thousands of scientist do not agree period, we dont need to move from anything other than left wing stupidity like yours.  "
      ]
     },
     "execution_count": 7,
     "metadata": {},
     "output_type": "execute_result"
    }
   ],
   "source": [
    "# some non-toxic documents\n",
    "inspect_df(trainset[~toxic])"
   ]
  },
  {
   "cell_type": "markdown",
   "id": "31d4edcc",
   "metadata": {},
   "source": [
    "We can observe that, although these 485 texts do not have toxic spans as annotation, some of them clearly contain toxic words, phrases etc."
   ]
  },
  {
   "cell_type": "code",
   "execution_count": 8,
   "id": "773a3dae",
   "metadata": {},
   "outputs": [
    {
     "data": {
      "text/plain": [
       "count    7939.000000\n",
       "mean      205.269807\n",
       "std       202.184623\n",
       "min         4.000000\n",
       "25%        72.000000\n",
       "50%       136.000000\n",
       "75%       263.000000\n",
       "max      1047.000000\n",
       "Name: text, dtype: float64"
      ]
     },
     "execution_count": 8,
     "metadata": {},
     "output_type": "execute_result"
    }
   ],
   "source": [
    "trainset[\"text\"].map(len).describe()"
   ]
  },
  {
   "cell_type": "markdown",
   "id": "a5c57f45",
   "metadata": {},
   "source": [
    "The average document in the training dataset has 204 characters, the shortest one is only 4 characters while the largest one is 1000. "
   ]
  },
  {
   "cell_type": "code",
   "execution_count": 9,
   "id": "8183ba24",
   "metadata": {},
   "outputs": [
    {
     "data": {
      "text/plain": [
       "count    7454.000000\n",
       "mean       18.663134\n",
       "std        46.955908\n",
       "min         2.000000\n",
       "25%         6.000000\n",
       "50%         9.000000\n",
       "75%        16.000000\n",
       "max       994.000000\n",
       "Name: spans, dtype: float64"
      ]
     },
     "execution_count": 9,
     "metadata": {},
     "output_type": "execute_result"
    }
   ],
   "source": [
    "trainset[toxic][\"spans\"].map(len).describe()"
   ]
  },
  {
   "cell_type": "markdown",
   "id": "09143099",
   "metadata": {},
   "source": [
    "The average toxic document in the training dataset has ~19 toxic characters (i.e. characters belonging to toxic character sequences)."
   ]
  },
  {
   "cell_type": "code",
   "execution_count": 10,
   "id": "71168509",
   "metadata": {},
   "outputs": [
    {
     "data": {
      "image/png": "[encoded data removed]",
      "text/plain": [
       "<Figure size 640x480 with 1 Axes>"
      ]
     },
     "metadata": {},
     "output_type": "display_data"
    },
    {
     "data": {
      "text/plain": [
       "<ggplot: (135706257607)>"
      ]
     },
     "execution_count": 10,
     "metadata": {},
     "output_type": "execute_result"
    }
   ],
   "source": [
    "(\n",
    "    ggplot()\n",
    "    + geom_histogram(mapping=aes(x=trainset[\"text\"].map(len)), colour=\"white\", bins=30)\n",
    "    + xlab(\"toxic characters\")\n",
    ")"
   ]
  },
  {
   "cell_type": "markdown",
   "id": "c7b82eb8",
   "metadata": {},
   "source": [
    "We can observe that in a typical span, let's say:\n",
    "\n",
    "$$ [ 3, 4, 5, 6, 44, 45, 46 ] $$\n",
    "\n",
    "groups of consequtive integers ($ 3 \\rightarrow 6, 44 \\rightarrow 46$) are basically individual character sequences.\n",
    "\n",
    "Based on that, we can also get a peek on the number of toxic character sequences in the training dataset."
   ]
  },
  {
   "cell_type": "code",
   "execution_count": 11,
   "id": "20fb307b",
   "metadata": {},
   "outputs": [],
   "source": [
    "def continuous_spans(iterable: list):\n",
    "    \"\"\"Yield groups of continuous spans from an `iterable`.\n",
    "\n",
    "    Example:\n",
    "\n",
    "        iterable: [10, 11, 12, 13, 14, 15, 51, 52, 53, 54, 55, 56]\n",
    "\n",
    "        Returns: an iterator of groups. Each group is itself an iterator that materializes in a continuous span:\n",
    "                     1. [10, 11, 12, 13, 14, 15]\n",
    "                     2. [51, 52, 53, 54, 55, 56]\n",
    "\n",
    "    Inspired by: https://more-itertools.readthedocs.io/en/stable/api.html#more_itertools.consecutive_groups\n",
    "    \"\"\"\n",
    "    for _, g in groupby(enumerate(iterable), key=lambda x: x[0] - x[1]):\n",
    "        yield map(itemgetter(1), g)"
   ]
  },
  {
   "cell_type": "code",
   "execution_count": 12,
   "id": "aa4a30e8",
   "metadata": {},
   "outputs": [],
   "source": [
    "charsequences = trainset[toxic][\"spans\"].apply(\n",
    "    lambda x: [list(charseq) for charseq in continuous_spans(x)]\n",
    ")"
   ]
  },
  {
   "cell_type": "code",
   "execution_count": 13,
   "id": "aab33f3e",
   "metadata": {},
   "outputs": [
    {
     "data": {
      "text/plain": [
       "count    7454.000000\n",
       "mean        1.381540\n",
       "std         0.791483\n",
       "min         1.000000\n",
       "25%         1.000000\n",
       "50%         1.000000\n",
       "75%         2.000000\n",
       "max        25.000000\n",
       "Name: spans, dtype: float64"
      ]
     },
     "execution_count": 13,
     "metadata": {},
     "output_type": "execute_result"
    }
   ],
   "source": [
    "charsequences.map(len).describe()"
   ]
  },
  {
   "cell_type": "code",
   "execution_count": 14,
   "id": "2051bb26",
   "metadata": {},
   "outputs": [
    {
     "data": {
      "image/png": "[encoded data removed]",
      "text/plain": [
       "<Figure size 640x480 with 1 Axes>"
      ]
     },
     "metadata": {},
     "output_type": "display_data"
    },
    {
     "data": {
      "text/plain": [
       "<ggplot: (135707055285)>"
      ]
     },
     "execution_count": 14,
     "metadata": {},
     "output_type": "execute_result"
    }
   ],
   "source": [
    "(\n",
    "    ggplot()\n",
    "    + geom_histogram(mapping=aes(x=charsequences.map(len)), colour=\"white\", bins=30)\n",
    "    + xlab(\"toxic character sequences\")\n",
    ")"
   ]
  },
  {
   "cell_type": "markdown",
   "id": "bb71c597",
   "metadata": {},
   "source": [
    "So, a typical toxic document of the training dataset is likely to have 1 or 2 character sequences that attribute to its toxicity."
   ]
  },
  {
   "cell_type": "markdown",
   "id": "37eaee1f",
   "metadata": {},
   "source": [
    "## The Learning Task"
   ]
  },
  {
   "cell_type": "markdown",
   "id": "cf97e806",
   "metadata": {},
   "source": [
    "Our [objective](https://competitions.codalab.org/competitions/25623#learn_the_details-overview) here is to train a suitable model that will be able to predict the toxic spans -if any- contained in new, unseen documents.\n",
    "\n",
    "This is a binary sequence labelling task."
   ]
  },
  {
   "cell_type": "markdown",
   "id": "46279f0f",
   "metadata": {},
   "source": [
    "## A First Baseline Model"
   ]
  },
  {
   "cell_type": "markdown",
   "id": "ee27b96c",
   "metadata": {},
   "source": [
    "To better understand the difficulty for this learning, we will create a basic random sequence labeller and assess its performance."
   ]
  },
  {
   "cell_type": "code",
   "execution_count": 15,
   "id": "9d644bf9",
   "metadata": {},
   "outputs": [],
   "source": [
    "import random\n",
    "\n",
    "\n",
    "random.seed(a=42)\n",
    "\n",
    "\n",
    "class RandomSequenceLabeller(object):\n",
    "    \"\"\"Random sequence labeller - returns toxic offsets at random.\"\"\"\n",
    "\n",
    "    def predict(self, doc: str) -> list:\n",
    "\n",
    "        return [i for i, ch in enumerate(doc) if random.random() > 0.5]"
   ]
  },
  {
   "cell_type": "code",
   "execution_count": 16,
   "id": "550cabc1",
   "metadata": {},
   "outputs": [],
   "source": [
    "def f1(predictions, gold):\n",
    "    \"\"\"\n",
    "    F1 (a.k.a. DICE) operating on two lists of offsets (e.g., character).\n",
    "    >>> assert f1([0, 1, 4, 5], [0, 1, 6]) == 0.5714285714285714\n",
    "    :param predictions: a list of predicted offsets\n",
    "    :param gold: a list of offsets serving as the ground truth\n",
    "    :return: a score between 0 and 1\n",
    "\n",
    "    Originally in: https://github.com/ipavlopoulos/toxic_spans/blob/master/evaluation/semeval2021.py\n",
    "    \"\"\"\n",
    "    if len(gold) == 0:\n",
    "        return 1.0 if len(predictions) == 0 else 0.0\n",
    "\n",
    "    if len(predictions) == 0:\n",
    "        return 0.0\n",
    "\n",
    "    predictions_set = set(predictions)\n",
    "    gold_set = set(gold)\n",
    "\n",
    "    nom = 2 * len(predictions_set.intersection(gold_set))\n",
    "    denom = len(predictions_set) + len(gold_set)\n",
    "\n",
    "    return float(nom) / float(denom)"
   ]
  },
  {
   "cell_type": "code",
   "execution_count": 17,
   "id": "a28c494c",
   "metadata": {},
   "outputs": [],
   "source": [
    "# fetch the validation set\n",
    "validationset = pd.read_csv(\"../data/tsd_trial.csv\")\n",
    "validationset[\"text\"] = validationset[\"text\"].apply(str.lower)\n",
    "\n",
    "try:\n",
    "    validationset[\"spans\"] = validationset[\"spans\"].apply(literal_eval)\n",
    "\n",
    "except ValueError:  # in case cell is executed more than once\n",
    "    pass"
   ]
  },
  {
   "cell_type": "code",
   "execution_count": 18,
   "id": "ea144933",
   "metadata": {},
   "outputs": [
    {
     "data": {
      "text/plain": [
       "'trump said, in as many words, that mexicans were rapists and drug dealers.'"
      ]
     },
     "execution_count": 18,
     "metadata": {},
     "output_type": "execute_result"
    }
   ],
   "source": [
    "validationset[\"text\"].loc[11]"
   ]
  },
  {
   "cell_type": "code",
   "execution_count": 19,
   "id": "ffc2f615",
   "metadata": {},
   "outputs": [],
   "source": [
    "random_model = RandomSequenceLabeller()\n",
    "\n",
    "a_prediction = random_model.predict(doc=validationset[\"text\"].loc[11])"
   ]
  },
  {
   "cell_type": "code",
   "execution_count": 20,
   "id": "529ee4ca",
   "metadata": {},
   "outputs": [
    {
     "data": {
      "text/plain": [
       "0.5"
      ]
     },
     "execution_count": 20,
     "metadata": {},
     "output_type": "execute_result"
    }
   ],
   "source": [
    "f1(a_prediction, gold=validationset[\"spans\"].loc[11])"
   ]
  },
  {
   "cell_type": "code",
   "execution_count": 21,
   "id": "580ab26e",
   "metadata": {},
   "outputs": [
    {
     "name": "stdout",
     "output_type": "stream",
     "text": [
      "shape: (690, 4)\n"
     ]
    },
    {
     "data": {
      "text/html": [
       "<div>\n",
       "<style scoped>\n",
       "    .dataframe tbody tr th:only-of-type {\n",
       "        vertical-align: middle;\n",
       "    }\n",
       "\n",
       "    .dataframe tbody tr th {\n",
       "        vertical-align: top;\n",
       "    }\n",
       "\n",
       "    .dataframe thead th {\n",
       "        text-align: right;\n",
       "    }\n",
       "</style>\n",
       "<table border=\"1\" class=\"dataframe\">\n",
       "  <thead>\n",
       "    <tr style=\"text-align: right;\">\n",
       "      <th></th>\n",
       "      <th>spans</th>\n",
       "      <th>text</th>\n",
       "      <th>random_predictions</th>\n",
       "      <th>f1_score</th>\n",
       "    </tr>\n",
       "  </thead>\n",
       "  <tbody>\n",
       "    <tr>\n",
       "      <th>0</th>\n",
       "      <td>[15, 16, 17, 18, 19, 27, 28, 29, 30, 31]</td>\n",
       "      <td>because he's a moron and a bigot. it's not any more complicated than that.</td>\n",
       "      <td>[0, 2, 6, 8, 9, 12, 13, 17, 18, 22, 23, 24, 25, 27, 28, 29, 31, 35, 36, 38, 40, 41, 43, 44, 46, 47, 48, 49, 53, 54, 55, 58, 59, 63, 64, 67, 69, 72, 73]</td>\n",
       "      <td>0.244898</td>\n",
       "    </tr>\n",
       "    <tr>\n",
       "      <th>1</th>\n",
       "      <td>[29, 30, 31, 32, 33, 34]</td>\n",
       "      <td>how about we stop protecting idiots and let nature add some bleach to the gene pool. we can always submit their names for the darwin awards.</td>\n",
       "      <td>[2, 3, 5, 9, 13, 15, 16, 19, 22, 23, 25, 26, 32, 33, 34, 38, 45, 47, 48, 50, 51, 52, 53, 54, 61, 63, 66, 67, 68, 69, 72, 73, 74, 75, 77, 78, 79, 81, 84, 85, 88, 90, 91, 93, 94, 95, 97, 100, 103, 106, 107, 111, 112, 113, 116, 117, 118, 119, 120, 122, 124, 125, 129, 131, 132, 134, 137, 138]</td>\n",
       "      <td>0.081081</td>\n",
       "    </tr>\n",
       "    <tr>\n",
       "      <th>2</th>\n",
       "      <td>[166, 167, 168, 169, 170, 171]</td>\n",
       "      <td>if people  were  smart, they would  boycott this  inept  airline,  but   they  are  not  smart,  so   rogue  businesses  like  this  one,   still thrive   taking the idiots  for  a ride...</td>\n",
       "      <td>[3, 4, 6, 7, 11, 12, 13, 14, 15, 19, 20, 21, 22, 26, 27, 29, 31, 32, 33, 34, 35, 37, 39, 40, 41, 42, 44, 46, 47, 49, 52, 57, 58, 60, 62, 63, 64, 66, 68, 72, 74, 75, 77, 79, 81, 82, 83, 84, 85, 88, 91, 92, 100, 101, 102, 103, 105, 109, 110, 115, 116, 119, 120, 122, 123, 124, 130, 133, 135, 138, 140, 141, 145, 146, 149, 151, 152, 153, 154, 155, 156, 157, 158, 159, 160, 161, 162, 163, 167, 168, 169, 170, 176, 179, 180, 183, 187]</td>\n",
       "      <td>0.077670</td>\n",
       "    </tr>\n",
       "    <tr>\n",
       "      <th>3</th>\n",
       "      <td>[87, 88, 89, 90, 91, 92]</td>\n",
       "      <td>trump claimed that russia will never invade the ukraine, when russia already has - how stupid can people be?</td>\n",
       "      <td>[0, 1, 2, 3, 7, 8, 9, 11, 12, 13, 19, 24, 27, 29, 36, 38, 39, 43, 44, 46, 47, 48, 49, 50, 55, 56, 58, 59, 61, 62, 64, 65, 69, 70, 72, 74, 75, 77, 78, 79, 81, 82, 86, 88, 89, 91, 92, 93, 94, 96, 97, 99, 100, 103, 105, 106]</td>\n",
       "      <td>0.129032</td>\n",
       "    </tr>\n",
       "    <tr>\n",
       "      <th>4</th>\n",
       "      <td>[]</td>\n",
       "      <td>as long as your willing to pay a lot more for products you buy, then fine.\\r\\nbut you better not be going to costco and walmart to buy stuff because it's cheaper.\\r\\nif so, we get to call you a hypocritical wanker.</td>\n",
       "      <td>[0, 3, 6, 9, 11, 12, 15, 17, 19, 20, 21, 23, 26, 28, 30, 32, 34, 40, 41, 45, 46, 47, 54, 56, 57, 58, 60, 62, 63, 68, 70, 73, 76, 78, 80, 81, 82, 84, 87, 88, 90, 91, 92, 93, 96, 102, 105, 106, 108, 109, 110, 111, 112, 113, 115, 116, 117, 118, 122, 123, 126, 127, 128, 129, 137, 138, 139, 140, 141, 142, 145, 147, 148, 150, 151, 156, 157, 159, 161, 162, 163, 167, 169, 170, 171, 172, 176, 177, 178, 180, 181, 183, 185, 186, 189, 190, 192, 193, 196, 198, ...]</td>\n",
       "      <td>0.000000</td>\n",
       "    </tr>\n",
       "  </tbody>\n",
       "</table>\n",
       "</div>"
      ],
      "text/plain": [
       "                                      spans  \\\n",
       "0  [15, 16, 17, 18, 19, 27, 28, 29, 30, 31]   \n",
       "1                  [29, 30, 31, 32, 33, 34]   \n",
       "2            [166, 167, 168, 169, 170, 171]   \n",
       "3                  [87, 88, 89, 90, 91, 92]   \n",
       "4                                        []   \n",
       "\n",
       "                                                                                                                                                                                                                     text  \\\n",
       "0                                                                                                                                              because he's a moron and a bigot. it's not any more complicated than that.   \n",
       "1                                                                            how about we stop protecting idiots and let nature add some bleach to the gene pool. we can always submit their names for the darwin awards.   \n",
       "2                            if people  were  smart, they would  boycott this  inept  airline,  but   they  are  not  smart,  so   rogue  businesses  like  this  one,   still thrive   taking the idiots  for  a ride...   \n",
       "3                                                                                                            trump claimed that russia will never invade the ukraine, when russia already has - how stupid can people be?   \n",
       "4  as long as your willing to pay a lot more for products you buy, then fine.\\r\\nbut you better not be going to costco and walmart to buy stuff because it's cheaper.\\r\\nif so, we get to call you a hypocritical wanker.   \n",
       "\n",
       "                                                                                                                                                                                                                                                                                                                                                                                                                                                         random_predictions  \\\n",
       "0                                                                                                                                                                                                                                                                                                                   [0, 2, 6, 8, 9, 12, 13, 17, 18, 22, 23, 24, 25, 27, 28, 29, 31, 35, 36, 38, 40, 41, 43, 44, 46, 47, 48, 49, 53, 54, 55, 58, 59, 63, 64, 67, 69, 72, 73]   \n",
       "1                                                                                                                                                                         [2, 3, 5, 9, 13, 15, 16, 19, 22, 23, 25, 26, 32, 33, 34, 38, 45, 47, 48, 50, 51, 52, 53, 54, 61, 63, 66, 67, 68, 69, 72, 73, 74, 75, 77, 78, 79, 81, 84, 85, 88, 90, 91, 93, 94, 95, 97, 100, 103, 106, 107, 111, 112, 113, 116, 117, 118, 119, 120, 122, 124, 125, 129, 131, 132, 134, 137, 138]   \n",
       "2                             [3, 4, 6, 7, 11, 12, 13, 14, 15, 19, 20, 21, 22, 26, 27, 29, 31, 32, 33, 34, 35, 37, 39, 40, 41, 42, 44, 46, 47, 49, 52, 57, 58, 60, 62, 63, 64, 66, 68, 72, 74, 75, 77, 79, 81, 82, 83, 84, 85, 88, 91, 92, 100, 101, 102, 103, 105, 109, 110, 115, 116, 119, 120, 122, 123, 124, 130, 133, 135, 138, 140, 141, 145, 146, 149, 151, 152, 153, 154, 155, 156, 157, 158, 159, 160, 161, 162, 163, 167, 168, 169, 170, 176, 179, 180, 183, 187]   \n",
       "3                                                                                                                                                                                                                                             [0, 1, 2, 3, 7, 8, 9, 11, 12, 13, 19, 24, 27, 29, 36, 38, 39, 43, 44, 46, 47, 48, 49, 50, 55, 56, 58, 59, 61, 62, 64, 65, 69, 70, 72, 74, 75, 77, 78, 79, 81, 82, 86, 88, 89, 91, 92, 93, 94, 96, 97, 99, 100, 103, 105, 106]   \n",
       "4  [0, 3, 6, 9, 11, 12, 15, 17, 19, 20, 21, 23, 26, 28, 30, 32, 34, 40, 41, 45, 46, 47, 54, 56, 57, 58, 60, 62, 63, 68, 70, 73, 76, 78, 80, 81, 82, 84, 87, 88, 90, 91, 92, 93, 96, 102, 105, 106, 108, 109, 110, 111, 112, 113, 115, 116, 117, 118, 122, 123, 126, 127, 128, 129, 137, 138, 139, 140, 141, 142, 145, 147, 148, 150, 151, 156, 157, 159, 161, 162, 163, 167, 169, 170, 171, 172, 176, 177, 178, 180, 181, 183, 185, 186, 189, 190, 192, 193, 196, 198, ...]   \n",
       "\n",
       "   f1_score  \n",
       "0  0.244898  \n",
       "1  0.081081  \n",
       "2  0.077670  \n",
       "3  0.129032  \n",
       "4  0.000000  "
      ]
     },
     "execution_count": 21,
     "metadata": {},
     "output_type": "execute_result"
    }
   ],
   "source": [
    "# and now for the whole validation dataset\n",
    "valset = validationset.copy()  # TODO: Why copy?\n",
    "\n",
    "valset[\"random_predictions\"] = valset[\"text\"].apply(random_model.predict)\n",
    "valset[\"f1_score\"] = valset.apply(\n",
    "    lambda s: f1(s.random_predictions, gold=s.spans), axis=1\n",
    ")\n",
    "\n",
    "inspect_df(valset)"
   ]
  },
  {
   "cell_type": "code",
   "execution_count": 22,
   "id": "ae66f8a5",
   "metadata": {},
   "outputs": [
    {
     "data": {
      "text/plain": [
       "0.17281838692870177"
      ]
     },
     "execution_count": 22,
     "metadata": {},
     "output_type": "execute_result"
    }
   ],
   "source": [
    "valset[\"f1_score\"].mean()"
   ]
  },
  {
   "cell_type": "markdown",
   "id": "afd4f19c",
   "metadata": {},
   "source": [
    "So, averaging over the test dataset, our random classifier achieves an F1 score of approx. 17%."
   ]
  }
 ],
 "metadata": {
  "kernelspec": {
   "display_name": "Python 3",
   "language": "python",
   "name": "python3"
  },
  "language_info": {
   "codemirror_mode": {
    "name": "ipython",
    "version": 3
   },
   "file_extension": ".py",
   "mimetype": "text/x-python",
   "name": "python",
   "nbconvert_exporter": "python",
   "pygments_lexer": "ipython3",
   "version": "3.8.10"
  }
 },
 "nbformat": 4,
 "nbformat_minor": 5
}
